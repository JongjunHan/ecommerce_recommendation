{
  "nbformat": 4,
  "nbformat_minor": 0,
  "metadata": {
    "colab": {
      "provenance": [],
      "machine_shape": "hm"
    },
    "kernelspec": {
      "name": "python3",
      "display_name": "Python 3"
    },
    "language_info": {
      "name": "python"
    },
    "accelerator": "GPU"
  },
  "cells": [
    {
      "cell_type": "code",
      "source": [
        "from google.colab import drive\n",
        "drive.mount('/content/drive/')"
      ],
      "metadata": {
        "colab": {
          "base_uri": "https://localhost:8080/"
        },
        "id": "OrWBoWp9nuGy",
        "outputId": "c97b5498-7820-4202-99a8-7252693d5ba1"
      },
      "execution_count": 1,
      "outputs": [
        {
          "output_type": "stream",
          "name": "stdout",
          "text": [
            "Mounted at /content/drive/\n"
          ]
        }
      ]
    },
    {
      "cell_type": "code",
      "execution_count": 2,
      "metadata": {
        "id": "bZD5PaUgm95t"
      },
      "outputs": [],
      "source": [
        "import pandas as pd\n",
        "import numpy as np"
      ]
    },
    {
      "cell_type": "code",
      "source": [
        "file_path = '/content/drive/MyDrive/ecommerce/2019-Oct.parquet'"
      ],
      "metadata": {
        "id": "dUTgWmlVnc0f"
      },
      "execution_count": 5,
      "outputs": []
    },
    {
      "cell_type": "code",
      "source": [
        "df = pd.read_parquet(file_path)"
      ],
      "metadata": {
        "id": "9TNjh0MbnJSK"
      },
      "execution_count": 4,
      "outputs": []
    },
    {
      "cell_type": "code",
      "source": [
        "df['cart'] = np.where(df['event_type'] == 'cart', 1, 0)\n",
        "df['view'] = np.where(df['event_type'] == 'view', 1, 0)\n",
        "df['purchased'] = np.where(df['event_type'] == 'purchase', 1, 0)"
      ],
      "metadata": {
        "id": "S9UDMttRnfvM"
      },
      "execution_count": 5,
      "outputs": []
    },
    {
      "cell_type": "code",
      "source": [
        "df = df[['event_type', 'user_id', 'product_id', 'category_code', 'brand', 'price', 'view', 'cart', 'purchased']]"
      ],
      "metadata": {
        "id": "MyF-6-FRoguq"
      },
      "execution_count": 6,
      "outputs": []
    },
    {
      "cell_type": "code",
      "source": [
        "bins = list(range(0, 3000, 300))\n",
        "\n",
        "bins_label = [x / 300 for x in bins]\n",
        "df['price_label'] = pd.cut(df['price'], bins, right = False, labels = bins_label[: -1])"
      ],
      "metadata": {
        "id": "2J4-LLG4pyC6"
      },
      "execution_count": 7,
      "outputs": []
    },
    {
      "cell_type": "code",
      "source": [
        "df_product = df.groupby('product_id')['purchased', 'cart', 'view'].sum()"
      ],
      "metadata": {
        "colab": {
          "base_uri": "https://localhost:8080/"
        },
        "id": "578musNWqMGD",
        "outputId": "80e399d4-ff19-442b-ca96-38be6df8c748"
      },
      "execution_count": 8,
      "outputs": [
        {
          "output_type": "stream",
          "name": "stderr",
          "text": [
            "/usr/local/lib/python3.7/dist-packages/ipykernel_launcher.py:1: FutureWarning: Indexing with multiple keys (implicitly converted to a tuple of keys) will be deprecated, use a list instead.\n",
            "  \"\"\"Entry point for launching an IPython kernel.\n"
          ]
        }
      ]
    },
    {
      "cell_type": "code",
      "source": [
        "df_product['rating_value'] = (df_product['purchased'] + df_product['cart'] * 0.7 + df_product['view'] * 0.1) / (df_product['purchased'] + df_product['cart'] + df_product['view'])"
      ],
      "metadata": {
        "id": "yd2o4nRaqYDB"
      },
      "execution_count": 9,
      "outputs": []
    },
    {
      "cell_type": "code",
      "source": [
        "df_rating = df_product['rating_value']"
      ],
      "metadata": {
        "id": "TK43p3U4qkd0"
      },
      "execution_count": 11,
      "outputs": []
    },
    {
      "cell_type": "code",
      "source": [
        "df_event_rating = pd.merge(df, df_rating, on = 'product_id', how = 'outer')"
      ],
      "metadata": {
        "id": "GpBJYWNdquZq"
      },
      "execution_count": 12,
      "outputs": []
    },
    {
      "cell_type": "code",
      "source": [
        "df_event_rating = df_event_rating[['event_type', 'user_id', 'product_id', 'price_label', 'rating_value']]"
      ],
      "metadata": {
        "id": "DrkecO9Rq4wK"
      },
      "execution_count": 13,
      "outputs": []
    },
    {
      "cell_type": "code",
      "source": [
        "df_pl0 = df_event_rating[df_event_rating['price_label'] == 0]\n",
        "df_pl1 = df_event_rating[df_event_rating['price_label'] == 1]\n",
        "df_pl2 = df_event_rating[df_event_rating['price_label'] == 2]\n",
        "df_pl3 = df_event_rating[df_event_rating['price_label'] == 3]\n",
        "df_pl4 = df_event_rating[df_event_rating['price_label'] == 4]\n",
        "df_pl5 = df_event_rating[df_event_rating['price_label'] == 5]\n",
        "df_pl6 = df_event_rating[df_event_rating['price_label'] == 6]\n",
        "df_pl7 = df_event_rating[df_event_rating['price_label'] == 7]\n",
        "df_pl8 = df_event_rating[df_event_rating['price_label'] == 8]"
      ],
      "metadata": {
        "id": "tbFCJ7OirT0K"
      },
      "execution_count": 14,
      "outputs": []
    },
    {
      "cell_type": "code",
      "source": [
        "pl0 = round(df_pl0[df_pl0['event_type'] == 'purchase'].shape[0] / df_pl0.shape[0], 4) * 100\n",
        "pl1 = round(df_pl1[df_pl1['event_type'] == 'purchase'].shape[0] / df_pl1.shape[0], 4) * 100\n",
        "pl2 = round(df_pl2[df_pl2['event_type'] == 'purchase'].shape[0] / df_pl2.shape[0], 4) * 100\n",
        "pl3 = round(df_pl3[df_pl3['event_type'] == 'purchase'].shape[0] / df_pl3.shape[0], 4) * 100\n",
        "pl4 = round(df_pl4[df_pl4['event_type'] == 'purchase'].shape[0] / df_pl4.shape[0], 4) * 100\n",
        "pl5 = round(df_pl5[df_pl5['event_type'] == 'purchase'].shape[0] / df_pl5.shape[0], 4) * 100\n",
        "pl6 = round(df_pl6[df_pl6['event_type'] == 'purchase'].shape[0] / df_pl6.shape[0], 4) * 100\n",
        "pl7 = round(df_pl7[df_pl7['event_type'] == 'purchase'].shape[0] / df_pl7.shape[0], 4) * 100\n",
        "pl8 = round(df_pl8[df_pl8['event_type'] == 'purchase'].shape[0] / df_pl8.shape[0], 4) * 100"
      ],
      "metadata": {
        "id": "v1MwhFXgr7OY"
      },
      "execution_count": 15,
      "outputs": []
    },
    {
      "cell_type": "code",
      "source": [
        "df_event_rating['price_label'] = df_event_rating['price_label'].replace(0, pl0)\n",
        "df_event_rating['price_label'] = df_event_rating['price_label'].replace(1, pl1)\n",
        "df_event_rating['price_label'] = df_event_rating['price_label'].replace(2, pl2)\n",
        "df_event_rating['price_label'] = df_event_rating['price_label'].replace(3, pl3)\n",
        "df_event_rating['price_label'] = df_event_rating['price_label'].replace(4, pl4)\n",
        "df_event_rating['price_label'] = df_event_rating['price_label'].replace(5, pl5)\n",
        "df_event_rating['price_label'] = df_event_rating['price_label'].replace(6, pl6)\n",
        "df_event_rating['price_label'] = df_event_rating['price_label'].replace(7, pl7)\n",
        "df_event_rating['price_label'] = df_event_rating['price_label'].replace(8, pl8)"
      ],
      "metadata": {
        "id": "mwdVBE-Mxoik"
      },
      "execution_count": 29,
      "outputs": []
    },
    {
      "cell_type": "code",
      "source": [
        "df_event_rating['price_label'] = df_event_rating['price_label'].astype(float)"
      ],
      "metadata": {
        "id": "QvrgbJztyibv"
      },
      "execution_count": 36,
      "outputs": []
    },
    {
      "cell_type": "code",
      "source": [
        "df_event_rating['event_type'] = df_event_rating['event_type'].replace('view', 0.1)\n",
        "df_event_rating['event_type'] = df_event_rating['event_type'].replace('cart', 0.7)\n",
        "df_event_rating['event_type'] = df_event_rating['event_type'].replace('purchase', 1)"
      ],
      "metadata": {
        "id": "thFoI3KCtcGh"
      },
      "execution_count": 37,
      "outputs": []
    },
    {
      "cell_type": "code",
      "source": [
        "df_event_rating['event'] = pd.to_numeric(df_event_rating['event_type'])"
      ],
      "metadata": {
        "id": "HjKFF-rev2cr"
      },
      "execution_count": 38,
      "outputs": []
    },
    {
      "cell_type": "code",
      "source": [
        "df_event_rating.dtypes"
      ],
      "metadata": {
        "colab": {
          "base_uri": "https://localhost:8080/"
        },
        "id": "wSQUN2dgwCxB",
        "outputId": "7e8b0a18-c02a-4140-c922-39fc321d9f32"
      },
      "execution_count": 39,
      "outputs": [
        {
          "output_type": "execute_result",
          "data": {
            "text/plain": [
              "event_type      float64\n",
              "user_id           int64\n",
              "product_id        int64\n",
              "price_label     float64\n",
              "rating_value    float64\n",
              "event           float64\n",
              "dtype: object"
            ]
          },
          "metadata": {},
          "execution_count": 39
        }
      ]
    },
    {
      "cell_type": "code",
      "source": [
        "df_event_rating['rating'] = df_event_rating['price_label'] * df_event_rating['rating_value'] * df_event_rating['event_type']"
      ],
      "metadata": {
        "id": "-tGLJ9uUt2YR"
      },
      "execution_count": 40,
      "outputs": []
    },
    {
      "cell_type": "code",
      "source": [
        "df_user_product = df_event_rating[['user_id', 'product_id', 'rating']]"
      ],
      "metadata": {
        "id": "-lfoxqJIuNVc"
      },
      "execution_count": 41,
      "outputs": []
    },
    {
      "cell_type": "code",
      "source": [
        "df_user_product"
      ],
      "metadata": {
        "colab": {
          "base_uri": "https://localhost:8080/",
          "height": 424
        },
        "id": "lhVre59zyx59",
        "outputId": "269bee59-006a-4e63-bb92-ea614a53b279"
      },
      "execution_count": 43,
      "outputs": [
        {
          "output_type": "execute_result",
          "data": {
            "text/plain": [
              "            user_id  product_id    rating\n",
              "0         541312140    44600062  0.018381\n",
              "1         541312140    44600062  0.018381\n",
              "2         520558810    44600062  0.018381\n",
              "3         520558810    44600062  0.018381\n",
              "4         546203331    44600062  0.018381\n",
              "...             ...         ...       ...\n",
              "42448759  563587006    49300114  0.020300\n",
              "42448760  515624552    46800037  0.017300\n",
              "42448761  515624552    46800037  0.017300\n",
              "42448762  515474976    19002087  0.017300\n",
              "42448763  515474976    19000980  0.017300\n",
              "\n",
              "[42448764 rows x 3 columns]"
            ],
            "text/html": [
              "\n",
              "  <div id=\"df-9f4f3f3a-96ac-48fe-9112-530d48ae1a85\">\n",
              "    <div class=\"colab-df-container\">\n",
              "      <div>\n",
              "<style scoped>\n",
              "    .dataframe tbody tr th:only-of-type {\n",
              "        vertical-align: middle;\n",
              "    }\n",
              "\n",
              "    .dataframe tbody tr th {\n",
              "        vertical-align: top;\n",
              "    }\n",
              "\n",
              "    .dataframe thead th {\n",
              "        text-align: right;\n",
              "    }\n",
              "</style>\n",
              "<table border=\"1\" class=\"dataframe\">\n",
              "  <thead>\n",
              "    <tr style=\"text-align: right;\">\n",
              "      <th></th>\n",
              "      <th>user_id</th>\n",
              "      <th>product_id</th>\n",
              "      <th>rating</th>\n",
              "    </tr>\n",
              "  </thead>\n",
              "  <tbody>\n",
              "    <tr>\n",
              "      <th>0</th>\n",
              "      <td>541312140</td>\n",
              "      <td>44600062</td>\n",
              "      <td>0.018381</td>\n",
              "    </tr>\n",
              "    <tr>\n",
              "      <th>1</th>\n",
              "      <td>541312140</td>\n",
              "      <td>44600062</td>\n",
              "      <td>0.018381</td>\n",
              "    </tr>\n",
              "    <tr>\n",
              "      <th>2</th>\n",
              "      <td>520558810</td>\n",
              "      <td>44600062</td>\n",
              "      <td>0.018381</td>\n",
              "    </tr>\n",
              "    <tr>\n",
              "      <th>3</th>\n",
              "      <td>520558810</td>\n",
              "      <td>44600062</td>\n",
              "      <td>0.018381</td>\n",
              "    </tr>\n",
              "    <tr>\n",
              "      <th>4</th>\n",
              "      <td>546203331</td>\n",
              "      <td>44600062</td>\n",
              "      <td>0.018381</td>\n",
              "    </tr>\n",
              "    <tr>\n",
              "      <th>...</th>\n",
              "      <td>...</td>\n",
              "      <td>...</td>\n",
              "      <td>...</td>\n",
              "    </tr>\n",
              "    <tr>\n",
              "      <th>42448759</th>\n",
              "      <td>563587006</td>\n",
              "      <td>49300114</td>\n",
              "      <td>0.020300</td>\n",
              "    </tr>\n",
              "    <tr>\n",
              "      <th>42448760</th>\n",
              "      <td>515624552</td>\n",
              "      <td>46800037</td>\n",
              "      <td>0.017300</td>\n",
              "    </tr>\n",
              "    <tr>\n",
              "      <th>42448761</th>\n",
              "      <td>515624552</td>\n",
              "      <td>46800037</td>\n",
              "      <td>0.017300</td>\n",
              "    </tr>\n",
              "    <tr>\n",
              "      <th>42448762</th>\n",
              "      <td>515474976</td>\n",
              "      <td>19002087</td>\n",
              "      <td>0.017300</td>\n",
              "    </tr>\n",
              "    <tr>\n",
              "      <th>42448763</th>\n",
              "      <td>515474976</td>\n",
              "      <td>19000980</td>\n",
              "      <td>0.017300</td>\n",
              "    </tr>\n",
              "  </tbody>\n",
              "</table>\n",
              "<p>42448764 rows × 3 columns</p>\n",
              "</div>\n",
              "      <button class=\"colab-df-convert\" onclick=\"convertToInteractive('df-9f4f3f3a-96ac-48fe-9112-530d48ae1a85')\"\n",
              "              title=\"Convert this dataframe to an interactive table.\"\n",
              "              style=\"display:none;\">\n",
              "        \n",
              "  <svg xmlns=\"http://www.w3.org/2000/svg\" height=\"24px\"viewBox=\"0 0 24 24\"\n",
              "       width=\"24px\">\n",
              "    <path d=\"M0 0h24v24H0V0z\" fill=\"none\"/>\n",
              "    <path d=\"M18.56 5.44l.94 2.06.94-2.06 2.06-.94-2.06-.94-.94-2.06-.94 2.06-2.06.94zm-11 1L8.5 8.5l.94-2.06 2.06-.94-2.06-.94L8.5 2.5l-.94 2.06-2.06.94zm10 10l.94 2.06.94-2.06 2.06-.94-2.06-.94-.94-2.06-.94 2.06-2.06.94z\"/><path d=\"M17.41 7.96l-1.37-1.37c-.4-.4-.92-.59-1.43-.59-.52 0-1.04.2-1.43.59L10.3 9.45l-7.72 7.72c-.78.78-.78 2.05 0 2.83L4 21.41c.39.39.9.59 1.41.59.51 0 1.02-.2 1.41-.59l7.78-7.78 2.81-2.81c.8-.78.8-2.07 0-2.86zM5.41 20L4 18.59l7.72-7.72 1.47 1.35L5.41 20z\"/>\n",
              "  </svg>\n",
              "      </button>\n",
              "      \n",
              "  <style>\n",
              "    .colab-df-container {\n",
              "      display:flex;\n",
              "      flex-wrap:wrap;\n",
              "      gap: 12px;\n",
              "    }\n",
              "\n",
              "    .colab-df-convert {\n",
              "      background-color: #E8F0FE;\n",
              "      border: none;\n",
              "      border-radius: 50%;\n",
              "      cursor: pointer;\n",
              "      display: none;\n",
              "      fill: #1967D2;\n",
              "      height: 32px;\n",
              "      padding: 0 0 0 0;\n",
              "      width: 32px;\n",
              "    }\n",
              "\n",
              "    .colab-df-convert:hover {\n",
              "      background-color: #E2EBFA;\n",
              "      box-shadow: 0px 1px 2px rgba(60, 64, 67, 0.3), 0px 1px 3px 1px rgba(60, 64, 67, 0.15);\n",
              "      fill: #174EA6;\n",
              "    }\n",
              "\n",
              "    [theme=dark] .colab-df-convert {\n",
              "      background-color: #3B4455;\n",
              "      fill: #D2E3FC;\n",
              "    }\n",
              "\n",
              "    [theme=dark] .colab-df-convert:hover {\n",
              "      background-color: #434B5C;\n",
              "      box-shadow: 0px 1px 3px 1px rgba(0, 0, 0, 0.15);\n",
              "      filter: drop-shadow(0px 1px 2px rgba(0, 0, 0, 0.3));\n",
              "      fill: #FFFFFF;\n",
              "    }\n",
              "  </style>\n",
              "\n",
              "      <script>\n",
              "        const buttonEl =\n",
              "          document.querySelector('#df-9f4f3f3a-96ac-48fe-9112-530d48ae1a85 button.colab-df-convert');\n",
              "        buttonEl.style.display =\n",
              "          google.colab.kernel.accessAllowed ? 'block' : 'none';\n",
              "\n",
              "        async function convertToInteractive(key) {\n",
              "          const element = document.querySelector('#df-9f4f3f3a-96ac-48fe-9112-530d48ae1a85');\n",
              "          const dataTable =\n",
              "            await google.colab.kernel.invokeFunction('convertToInteractive',\n",
              "                                                     [key], {});\n",
              "          if (!dataTable) return;\n",
              "\n",
              "          const docLinkHtml = 'Like what you see? Visit the ' +\n",
              "            '<a target=\"_blank\" href=https://colab.research.google.com/notebooks/data_table.ipynb>data table notebook</a>'\n",
              "            + ' to learn more about interactive tables.';\n",
              "          element.innerHTML = '';\n",
              "          dataTable['output_type'] = 'display_data';\n",
              "          await google.colab.output.renderOutput(dataTable, element);\n",
              "          const docLink = document.createElement('div');\n",
              "          docLink.innerHTML = docLinkHtml;\n",
              "          element.appendChild(docLink);\n",
              "        }\n",
              "      </script>\n",
              "    </div>\n",
              "  </div>\n",
              "  "
            ]
          },
          "metadata": {},
          "execution_count": 43
        }
      ]
    },
    {
      "cell_type": "code",
      "source": [
        "def user_product(fpath):\n",
        "  df = pd.read_parquet(fpath)\n",
        "\n",
        "  df['cart'] = np.where(df['event_type'] == 'cart', 1, 0)\n",
        "  df['view'] = np.where(df['event_type'] == 'view', 1, 0)\n",
        "  df['purchased'] = np.where(df['event_type'] == 'purchase', 1, 0)\n",
        "\n",
        "  df = df[['event_type', 'user_id', 'product_id', 'price', 'view', 'cart', 'purchased']]\n",
        "\n",
        "  bins = list(range(0, 3000, 300))\n",
        "  bins_label = [x / 300 for x in bins]\n",
        "  df['price_label'] = pd.cut(df['price'], bins, right = False, labels = bins_label[: -1])\n",
        "\n",
        "  df_product = df.groupby('product_id')['purchased', 'cart', 'view'].sum()\n",
        "  df_product['rating_value'] = (df_product['purchased'] + df_product['cart'] * 0.7 + df_product['view'] * 0.1) / (df_product['purchased'] + df_product['cart'] + df_product['view'])\n",
        "\n",
        "  df_rating = df_product['rating_value']\n",
        "  df_event_rating = pd.merge(df, df_rating, on = 'product_id', how = 'outer')\n",
        "  df_event_rating = df_event_rating[['event_type', 'user_id', 'product_id', 'price_label', 'rating_value']]\n",
        "\n",
        "  df_pl0 = df_event_rating[df_event_rating['price_label'] == 0]\n",
        "  df_pl1 = df_event_rating[df_event_rating['price_label'] == 1]\n",
        "  df_pl2 = df_event_rating[df_event_rating['price_label'] == 2]\n",
        "  df_pl3 = df_event_rating[df_event_rating['price_label'] == 3]\n",
        "  df_pl4 = df_event_rating[df_event_rating['price_label'] == 4]\n",
        "  df_pl5 = df_event_rating[df_event_rating['price_label'] == 5]\n",
        "  df_pl6 = df_event_rating[df_event_rating['price_label'] == 6]\n",
        "  df_pl7 = df_event_rating[df_event_rating['price_label'] == 7]\n",
        "  df_pl8 = df_event_rating[df_event_rating['price_label'] == 8]\n",
        "\n",
        "  pl0 = round(df_pl0[df_pl0['event_type'] == 'purchase'].shape[0] / df_pl0.shape[0], 4) * 100\n",
        "  pl1 = round(df_pl1[df_pl1['event_type'] == 'purchase'].shape[0] / df_pl1.shape[0], 4) * 100\n",
        "  pl2 = round(df_pl2[df_pl2['event_type'] == 'purchase'].shape[0] / df_pl2.shape[0], 4) * 100\n",
        "  pl3 = round(df_pl3[df_pl3['event_type'] == 'purchase'].shape[0] / df_pl3.shape[0], 4) * 100\n",
        "  pl4 = round(df_pl4[df_pl4['event_type'] == 'purchase'].shape[0] / df_pl4.shape[0], 4) * 100\n",
        "  pl5 = round(df_pl5[df_pl5['event_type'] == 'purchase'].shape[0] / df_pl5.shape[0], 4) * 100\n",
        "  pl6 = round(df_pl6[df_pl6['event_type'] == 'purchase'].shape[0] / df_pl6.shape[0], 4) * 100\n",
        "  pl7 = round(df_pl7[df_pl7['event_type'] == 'purchase'].shape[0] / df_pl7.shape[0], 4) * 100\n",
        "  pl8 = round(df_pl8[df_pl8['event_type'] == 'purchase'].shape[0] / df_pl8.shape[0], 4) * 100\n",
        "\n",
        "  df_event_rating['price_label'] = df_event_rating['price_label'].replace(0, pl0)\n",
        "  df_event_rating['price_label'] = df_event_rating['price_label'].replace(1, pl1)\n",
        "  df_event_rating['price_label'] = df_event_rating['price_label'].replace(2, pl2)\n",
        "  df_event_rating['price_label'] = df_event_rating['price_label'].replace(3, pl3)\n",
        "  df_event_rating['price_label'] = df_event_rating['price_label'].replace(4, pl4)\n",
        "  df_event_rating['price_label'] = df_event_rating['price_label'].replace(5, pl5)\n",
        "  df_event_rating['price_label'] = df_event_rating['price_label'].replace(6, pl6)\n",
        "  df_event_rating['price_label'] = df_event_rating['price_label'].replace(7, pl7)\n",
        "  df_event_rating['price_label'] = df_event_rating['price_label'].replace(8, pl8)\n",
        "\n",
        "  df_event_rating['price_label'] = df_event_rating['price_label'].astype(float)\n",
        "\n",
        "  df_event_rating['event_type'] = df_event_rating['event_type'].replace('view', 0.1)\n",
        "  df_event_rating['event_type'] = df_event_rating['event_type'].replace('cart', 0.7)\n",
        "  df_event_rating['event_type'] = df_event_rating['event_type'].replace('purchase', 1)\n",
        "\n",
        "  df_event_rating['event'] = pd.to_numeric(df_event_rating['event_type'])\n",
        "\n",
        "  df_event_rating['rating'] = df_event_rating['price_label'] * df_event_rating['rating_value'] * df_event_rating['event_type']\n",
        "\n",
        "  df_user_product = df_event_rating[['user_id', 'product_id', 'rating']]\n",
        "\n",
        "  return df_user_product"
      ],
      "metadata": {
        "id": "azCeZXeo0vqH"
      },
      "execution_count": 4,
      "outputs": []
    },
    {
      "cell_type": "code",
      "source": [
        "df = user_product(file_path)"
      ],
      "metadata": {
        "colab": {
          "base_uri": "https://localhost:8080/"
        },
        "id": "KIgzbXoB21t0",
        "outputId": "8728d3cf-eaf9-4f89-9e9a-f8284148a863"
      },
      "execution_count": 6,
      "outputs": [
        {
          "output_type": "stream",
          "name": "stderr",
          "text": [
            "/usr/local/lib/python3.7/dist-packages/ipykernel_launcher.py:14: FutureWarning: Indexing with multiple keys (implicitly converted to a tuple of keys) will be deprecated, use a list instead.\n",
            "  \n"
          ]
        }
      ]
    },
    {
      "cell_type": "code",
      "source": [
        "df"
      ],
      "metadata": {
        "colab": {
          "base_uri": "https://localhost:8080/",
          "height": 424
        },
        "id": "JaWrtHlc3P65",
        "outputId": "457d28f1-9171-45c1-8c97-1cb70b999cf6"
      },
      "execution_count": 7,
      "outputs": [
        {
          "output_type": "execute_result",
          "data": {
            "text/plain": [
              "            user_id  product_id    rating\n",
              "0         541312140    44600062  0.018381\n",
              "1         541312140    44600062  0.018381\n",
              "2         520558810    44600062  0.018381\n",
              "3         520558810    44600062  0.018381\n",
              "4         546203331    44600062  0.018381\n",
              "...             ...         ...       ...\n",
              "42448759  563587006    49300114  0.020300\n",
              "42448760  515624552    46800037  0.017300\n",
              "42448761  515624552    46800037  0.017300\n",
              "42448762  515474976    19002087  0.017300\n",
              "42448763  515474976    19000980  0.017300\n",
              "\n",
              "[42448764 rows x 3 columns]"
            ],
            "text/html": [
              "\n",
              "  <div id=\"df-04b972dd-4eff-4c9b-9241-7351bedd2462\">\n",
              "    <div class=\"colab-df-container\">\n",
              "      <div>\n",
              "<style scoped>\n",
              "    .dataframe tbody tr th:only-of-type {\n",
              "        vertical-align: middle;\n",
              "    }\n",
              "\n",
              "    .dataframe tbody tr th {\n",
              "        vertical-align: top;\n",
              "    }\n",
              "\n",
              "    .dataframe thead th {\n",
              "        text-align: right;\n",
              "    }\n",
              "</style>\n",
              "<table border=\"1\" class=\"dataframe\">\n",
              "  <thead>\n",
              "    <tr style=\"text-align: right;\">\n",
              "      <th></th>\n",
              "      <th>user_id</th>\n",
              "      <th>product_id</th>\n",
              "      <th>rating</th>\n",
              "    </tr>\n",
              "  </thead>\n",
              "  <tbody>\n",
              "    <tr>\n",
              "      <th>0</th>\n",
              "      <td>541312140</td>\n",
              "      <td>44600062</td>\n",
              "      <td>0.018381</td>\n",
              "    </tr>\n",
              "    <tr>\n",
              "      <th>1</th>\n",
              "      <td>541312140</td>\n",
              "      <td>44600062</td>\n",
              "      <td>0.018381</td>\n",
              "    </tr>\n",
              "    <tr>\n",
              "      <th>2</th>\n",
              "      <td>520558810</td>\n",
              "      <td>44600062</td>\n",
              "      <td>0.018381</td>\n",
              "    </tr>\n",
              "    <tr>\n",
              "      <th>3</th>\n",
              "      <td>520558810</td>\n",
              "      <td>44600062</td>\n",
              "      <td>0.018381</td>\n",
              "    </tr>\n",
              "    <tr>\n",
              "      <th>4</th>\n",
              "      <td>546203331</td>\n",
              "      <td>44600062</td>\n",
              "      <td>0.018381</td>\n",
              "    </tr>\n",
              "    <tr>\n",
              "      <th>...</th>\n",
              "      <td>...</td>\n",
              "      <td>...</td>\n",
              "      <td>...</td>\n",
              "    </tr>\n",
              "    <tr>\n",
              "      <th>42448759</th>\n",
              "      <td>563587006</td>\n",
              "      <td>49300114</td>\n",
              "      <td>0.020300</td>\n",
              "    </tr>\n",
              "    <tr>\n",
              "      <th>42448760</th>\n",
              "      <td>515624552</td>\n",
              "      <td>46800037</td>\n",
              "      <td>0.017300</td>\n",
              "    </tr>\n",
              "    <tr>\n",
              "      <th>42448761</th>\n",
              "      <td>515624552</td>\n",
              "      <td>46800037</td>\n",
              "      <td>0.017300</td>\n",
              "    </tr>\n",
              "    <tr>\n",
              "      <th>42448762</th>\n",
              "      <td>515474976</td>\n",
              "      <td>19002087</td>\n",
              "      <td>0.017300</td>\n",
              "    </tr>\n",
              "    <tr>\n",
              "      <th>42448763</th>\n",
              "      <td>515474976</td>\n",
              "      <td>19000980</td>\n",
              "      <td>0.017300</td>\n",
              "    </tr>\n",
              "  </tbody>\n",
              "</table>\n",
              "<p>42448764 rows × 3 columns</p>\n",
              "</div>\n",
              "      <button class=\"colab-df-convert\" onclick=\"convertToInteractive('df-04b972dd-4eff-4c9b-9241-7351bedd2462')\"\n",
              "              title=\"Convert this dataframe to an interactive table.\"\n",
              "              style=\"display:none;\">\n",
              "        \n",
              "  <svg xmlns=\"http://www.w3.org/2000/svg\" height=\"24px\"viewBox=\"0 0 24 24\"\n",
              "       width=\"24px\">\n",
              "    <path d=\"M0 0h24v24H0V0z\" fill=\"none\"/>\n",
              "    <path d=\"M18.56 5.44l.94 2.06.94-2.06 2.06-.94-2.06-.94-.94-2.06-.94 2.06-2.06.94zm-11 1L8.5 8.5l.94-2.06 2.06-.94-2.06-.94L8.5 2.5l-.94 2.06-2.06.94zm10 10l.94 2.06.94-2.06 2.06-.94-2.06-.94-.94-2.06-.94 2.06-2.06.94z\"/><path d=\"M17.41 7.96l-1.37-1.37c-.4-.4-.92-.59-1.43-.59-.52 0-1.04.2-1.43.59L10.3 9.45l-7.72 7.72c-.78.78-.78 2.05 0 2.83L4 21.41c.39.39.9.59 1.41.59.51 0 1.02-.2 1.41-.59l7.78-7.78 2.81-2.81c.8-.78.8-2.07 0-2.86zM5.41 20L4 18.59l7.72-7.72 1.47 1.35L5.41 20z\"/>\n",
              "  </svg>\n",
              "      </button>\n",
              "      \n",
              "  <style>\n",
              "    .colab-df-container {\n",
              "      display:flex;\n",
              "      flex-wrap:wrap;\n",
              "      gap: 12px;\n",
              "    }\n",
              "\n",
              "    .colab-df-convert {\n",
              "      background-color: #E8F0FE;\n",
              "      border: none;\n",
              "      border-radius: 50%;\n",
              "      cursor: pointer;\n",
              "      display: none;\n",
              "      fill: #1967D2;\n",
              "      height: 32px;\n",
              "      padding: 0 0 0 0;\n",
              "      width: 32px;\n",
              "    }\n",
              "\n",
              "    .colab-df-convert:hover {\n",
              "      background-color: #E2EBFA;\n",
              "      box-shadow: 0px 1px 2px rgba(60, 64, 67, 0.3), 0px 1px 3px 1px rgba(60, 64, 67, 0.15);\n",
              "      fill: #174EA6;\n",
              "    }\n",
              "\n",
              "    [theme=dark] .colab-df-convert {\n",
              "      background-color: #3B4455;\n",
              "      fill: #D2E3FC;\n",
              "    }\n",
              "\n",
              "    [theme=dark] .colab-df-convert:hover {\n",
              "      background-color: #434B5C;\n",
              "      box-shadow: 0px 1px 3px 1px rgba(0, 0, 0, 0.15);\n",
              "      filter: drop-shadow(0px 1px 2px rgba(0, 0, 0, 0.3));\n",
              "      fill: #FFFFFF;\n",
              "    }\n",
              "  </style>\n",
              "\n",
              "      <script>\n",
              "        const buttonEl =\n",
              "          document.querySelector('#df-04b972dd-4eff-4c9b-9241-7351bedd2462 button.colab-df-convert');\n",
              "        buttonEl.style.display =\n",
              "          google.colab.kernel.accessAllowed ? 'block' : 'none';\n",
              "\n",
              "        async function convertToInteractive(key) {\n",
              "          const element = document.querySelector('#df-04b972dd-4eff-4c9b-9241-7351bedd2462');\n",
              "          const dataTable =\n",
              "            await google.colab.kernel.invokeFunction('convertToInteractive',\n",
              "                                                     [key], {});\n",
              "          if (!dataTable) return;\n",
              "\n",
              "          const docLinkHtml = 'Like what you see? Visit the ' +\n",
              "            '<a target=\"_blank\" href=https://colab.research.google.com/notebooks/data_table.ipynb>data table notebook</a>'\n",
              "            + ' to learn more about interactive tables.';\n",
              "          element.innerHTML = '';\n",
              "          dataTable['output_type'] = 'display_data';\n",
              "          await google.colab.output.renderOutput(dataTable, element);\n",
              "          const docLink = document.createElement('div');\n",
              "          docLink.innerHTML = docLinkHtml;\n",
              "          element.appendChild(docLink);\n",
              "        }\n",
              "      </script>\n",
              "    </div>\n",
              "  </div>\n",
              "  "
            ]
          },
          "metadata": {},
          "execution_count": 7
        }
      ]
    }
  ]
}