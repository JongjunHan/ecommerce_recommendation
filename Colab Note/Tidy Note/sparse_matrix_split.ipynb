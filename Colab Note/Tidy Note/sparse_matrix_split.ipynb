{
  "nbformat": 4,
  "nbformat_minor": 0,
  "metadata": {
    "colab": {
      "provenance": [],
      "machine_shape": "hm"
    },
    "kernelspec": {
      "name": "python3",
      "display_name": "Python 3"
    },
    "language_info": {
      "name": "python"
    },
    "accelerator": "GPU"
  },
  "cells": [
    {
      "cell_type": "code",
      "execution_count": 1,
      "metadata": {
        "colab": {
          "base_uri": "https://localhost:8080/"
        },
        "id": "JEVQ91fM6Hui",
        "outputId": "d0ca620a-0f96-48b3-d1c9-9fd9048ba64b"
      },
      "outputs": [
        {
          "output_type": "stream",
          "name": "stdout",
          "text": [
            "Mounted at /content/drive/\n"
          ]
        }
      ],
      "source": [
        "from google.colab import drive\n",
        "drive.mount('/content/drive/')"
      ]
    },
    {
      "cell_type": "code",
      "source": [
        "import pandas as pd\n",
        "from scipy.sparse import csr_matrix\n",
        "from sklearn.model_selection import train_test_split"
      ],
      "metadata": {
        "id": "Bc7VrqG66g74"
      },
      "execution_count": 2,
      "outputs": []
    },
    {
      "cell_type": "code",
      "source": [
        "df = pd.read_parquet('/content/drive/MyDrive/ecommerce/2019-Oct-EDA.parquet')"
      ],
      "metadata": {
        "id": "tCEiRYt26sWS"
      },
      "execution_count": 13,
      "outputs": []
    },
    {
      "cell_type": "code",
      "source": [
        "user_unique = df['user_id'].unique()\n",
        "product_unique = df['product_id'].unique()\n",
        "\n",
        "user_to_idx = {v:k for k,v in enumerate(user_unique)}\n",
        "product_to_idx = {v:k for k,v in enumerate(product_unique)}"
      ],
      "metadata": {
        "id": "a__nx_sk6qv5"
      },
      "execution_count": 4,
      "outputs": []
    },
    {
      "cell_type": "code",
      "source": [
        "temp_user_data = df['user_id'].map(user_to_idx.get).dropna()\n",
        "if len(temp_user_data) == len(df): \n",
        "    df['user_id'] = temp_user_data\n",
        "\n",
        "temp_product_data = df['product_id'].map(product_to_idx.get).dropna()\n",
        "if len(temp_product_data) == len(df):\n",
        "    df['product_id'] = temp_product_data"
      ],
      "metadata": {
        "id": "l9MDITlr67uP"
      },
      "execution_count": 5,
      "outputs": []
    },
    {
      "cell_type": "code",
      "source": [
        "shape = (len(user_to_idx), len(product_to_idx))"
      ],
      "metadata": {
        "id": "ck9qZxvb7EAR"
      },
      "execution_count": 7,
      "outputs": []
    },
    {
      "cell_type": "code",
      "source": [
        "df_train , df_test = train_test_split(df, test_size = 0.3)"
      ],
      "metadata": {
        "id": "WzzBqLRQ7NiH"
      },
      "execution_count": 8,
      "outputs": []
    },
    {
      "cell_type": "code",
      "source": [
        "df_train = df_train.reset_index(drop = True)\n",
        "df_test = df_test.reset_index(drop = True)"
      ],
      "metadata": {
        "id": "7MUQulDL7chJ"
      },
      "execution_count": 9,
      "outputs": []
    },
    {
      "cell_type": "code",
      "source": [
        "csr_train = csr_matrix((df_train.rating, (df_train.user_id, df_train.product_id)), shape = shape)\n",
        "csr_train"
      ],
      "metadata": {
        "colab": {
          "base_uri": "https://localhost:8080/"
        },
        "id": "ZcaW_v9n7k4o",
        "outputId": "3014be0f-6d8f-49c8-e192-c53c7835b078"
      },
      "execution_count": 10,
      "outputs": [
        {
          "output_type": "execute_result",
          "data": {
            "text/plain": [
              "<2962411x166084 sparse matrix of type '<class 'numpy.float64'>'\n",
              "\twith 17753619 stored elements in Compressed Sparse Row format>"
            ]
          },
          "metadata": {},
          "execution_count": 10
        }
      ]
    },
    {
      "cell_type": "code",
      "source": [
        "csr_test = csr_matrix((df_test.rating, (df_test.user_id, df_test.product_id)), shape = shape)\n",
        "csr_test"
      ],
      "metadata": {
        "colab": {
          "base_uri": "https://localhost:8080/"
        },
        "id": "gTvmsx5g7mpH",
        "outputId": "77d1d359-88d4-4d73-c640-2b637b51f7c2"
      },
      "execution_count": 11,
      "outputs": [
        {
          "output_type": "execute_result",
          "data": {
            "text/plain": [
              "<2962411x166084 sparse matrix of type '<class 'numpy.float64'>'\n",
              "\twith 9313085 stored elements in Compressed Sparse Row format>"
            ]
          },
          "metadata": {},
          "execution_count": 11
        }
      ]
    },
    {
      "cell_type": "code",
      "source": [
        "def sparse_matrix_split(fpath, n):\n",
        "  df = pd.read_parquet(fpath)\n",
        "\n",
        "  user_unique = df['user_id'].unique()\n",
        "  product_unique = df['product_id'].unique()\n",
        "  \n",
        "  user_to_idx = {v:k for k,v in enumerate(user_unique)}\n",
        "  product_to_idx = {v:k for k,v in enumerate(product_unique)}\n",
        "\n",
        "  temp_user_data = df['user_id'].map(user_to_idx.get).dropna()\n",
        "  \n",
        "  if len(temp_user_data) == len(df): \n",
        "    df['user_id'] = temp_user_data\n",
        "    \n",
        "  temp_product_data = df['product_id'].map(product_to_idx.get).dropna()\n",
        "  \n",
        "  if len(temp_product_data) == len(df):\n",
        "    df['product_id'] = temp_product_data\n",
        "\n",
        "  shape = (len(user_to_idx), len(product_to_idx))\n",
        "\n",
        "  df_train , df_test = train_test_split(df, test_size = n)\n",
        "  df_train = df_train.reset_index(drop = True)\n",
        "  df_test = df_test.reset_index(drop = True)\n",
        "\n",
        "  csr_train = csr_matrix((df_train.rating, (df_train.user_id, df_train.product_id)), shape = shape)\n",
        "  csr_test = csr_matrix((df_test.rating, (df_test.user_id, df_test.product_id)), shape = shape)\n",
        "\n",
        "  return csr_train, csr_test"
      ],
      "metadata": {
        "id": "8uBV67D073p5"
      },
      "execution_count": 3,
      "outputs": []
    },
    {
      "cell_type": "code",
      "source": [
        "file_path = '/content/drive/MyDrive/ecommerce/2019-Oct-EDA.parquet'"
      ],
      "metadata": {
        "id": "y_M25UVf89Qt"
      },
      "execution_count": 4,
      "outputs": []
    },
    {
      "cell_type": "code",
      "source": [
        "train, test = sparse_matrix_split(file_path, 0.3)"
      ],
      "metadata": {
        "id": "eahKeYsk84Cg"
      },
      "execution_count": 6,
      "outputs": []
    },
    {
      "cell_type": "code",
      "source": [
        "train"
      ],
      "metadata": {
        "colab": {
          "base_uri": "https://localhost:8080/"
        },
        "id": "f9dbMgLP9Dqq",
        "outputId": "a4091efe-1ea9-4a68-b7f1-8f7e29bf4638"
      },
      "execution_count": 7,
      "outputs": [
        {
          "output_type": "execute_result",
          "data": {
            "text/plain": [
              "<2962411x166084 sparse matrix of type '<class 'numpy.float64'>'\n",
              "\twith 17750343 stored elements in Compressed Sparse Row format>"
            ]
          },
          "metadata": {},
          "execution_count": 7
        }
      ]
    },
    {
      "cell_type": "code",
      "source": [
        "test"
      ],
      "metadata": {
        "colab": {
          "base_uri": "https://localhost:8080/"
        },
        "id": "eRg1s-7z-Bos",
        "outputId": "54e5f068-70b3-4758-9be2-0a9e927b124c"
      },
      "execution_count": 8,
      "outputs": [
        {
          "output_type": "execute_result",
          "data": {
            "text/plain": [
              "<2962411x166084 sparse matrix of type '<class 'numpy.float64'>'\n",
              "\twith 9313738 stored elements in Compressed Sparse Row format>"
            ]
          },
          "metadata": {},
          "execution_count": 8
        }
      ]
    }
  ]
}